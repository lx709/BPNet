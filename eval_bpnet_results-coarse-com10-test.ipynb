{
 "cells": [
  {
   "cell_type": "code",
   "execution_count": 1,
   "id": "99986a2c",
   "metadata": {},
   "outputs": [
    {
     "data": {
      "text/plain": [
       "0.004381585576731688"
      ]
     },
     "execution_count": 1,
     "metadata": {},
     "output_type": "execute_result"
    }
   ],
   "source": [
    "import h5py\n",
    "import numpy as np\n",
    "\n",
    "\n",
    "sem_level = 'coarse' # ['coarse', 'fine']\n",
    "split = 'test' #['valid', 'test']\n",
    "\n",
    "data = h5py.File('Exp/3dcompat/com50_coarse/result/best/{}_outputs_2.h5'.format(split))\n",
    "\n",
    "# test_outputs_50comp\n",
    "\n",
    "pred_mats = np.array(data['pred_mats']).astype('uint16')\n",
    "gt_mats = np.array(data['gt_mats']).astype('uint16')\n",
    "\n",
    "pred_parts = np.array(data['pred_parts']).astype('uint16')\n",
    "gt_parts = np.array(data['gt_parts']).astype('uint16')\n",
    "\n",
    "pred_objs = np.array(data['pred_objs']).astype('uint8')\n",
    "gt_objs = np.array(data['gt_objs']).astype('uint8')\n",
    "\n",
    "model_ids = np.array(data['model_ids']).astype('S6')[:,0]\n",
    "style_ids = np.array(data['style_ids']).astype('S6')[:,0]\n",
    "\n",
    "np.sum((pred_parts)==gt_parts) / (gt_parts.shape[0] * gt_parts.shape[1])"
   ]
  },
  {
   "cell_type": "code",
   "execution_count": 2,
   "metadata": {},
   "outputs": [
    {
     "data": {
      "text/plain": [
       "(array([ 1,  5,  7,  8, 13, 18, 19, 20, 22, 23, 31, 34, 35, 37, 40, 41],\n",
       "       dtype=uint8),\n",
       " array([ 0,  1,  2,  3,  4,  5,  6,  7,  8,  9, 10, 11, 12, 13, 14, 15, 16,\n",
       "        17, 18, 19, 20, 21, 22, 23, 24, 25, 26, 27, 28, 29, 30, 31, 32, 33,\n",
       "        34, 35, 36, 37, 38, 39, 40, 41], dtype=uint8),\n",
       " 70,\n",
       " (12560,))"
      ]
     },
     "execution_count": 2,
     "metadata": {},
     "output_type": "execute_result"
    }
   ],
   "source": [
    "np.unique(pred_objs), np.unique(gt_objs), np.sum(gt_objs==0), gt_objs.shape"
   ]
  },
  {
   "cell_type": "code",
   "execution_count": 3,
   "metadata": {},
   "outputs": [
    {
     "name": "stdout",
     "output_type": "stream",
     "text": [
      "0 1256\n",
      "1 1256\n",
      "2 1256\n",
      "3 1256\n",
      "4 1256\n",
      "5 1256\n",
      "6 1256\n",
      "7 1256\n",
      "8 1256\n",
      "9 1256\n"
     ]
    }
   ],
   "source": [
    "for sid in range(10):\n",
    "    print(sid, np.sum(style_ids.astype('int')==sid))"
   ]
  },
  {
   "cell_type": "code",
   "execution_count": 4,
   "id": "cbc553b2",
   "metadata": {},
   "outputs": [
    {
     "data": {
      "text/plain": [
       "(array([    0,     1,     2,     3,     5,     6,     7,     8,     9,\n",
       "           10, 65535], dtype=uint16),\n",
       " array([ 0,  1,  2,  3,  4,  5,  6,  7,  8,  9, 10, 11, 12], dtype=uint16),\n",
       " array([    0,     1,     2,     3,     4,     5,     6,     7,     8,\n",
       "            9,    10,    11,    13,    14,    15,    16,    17,    18,\n",
       "           19,    20,    22,    23,    24,    25,    27,    28,    29,\n",
       "           30,    31,    32,    33,    34,    35,    36,    37,    38,\n",
       "           39,    41, 65535], dtype=uint16),\n",
       " array([ 0,  1,  2,  3,  4,  5,  6,  7,  8, 10, 11, 12, 13, 14, 15, 16, 17,\n",
       "        18, 19, 20, 21, 22, 23, 24, 25, 26, 27, 28, 29, 30, 31, 32, 33, 34,\n",
       "        35, 36, 37, 38, 39, 40, 41, 42], dtype=uint16))"
      ]
     },
     "execution_count": 4,
     "metadata": {},
     "output_type": "execute_result"
    }
   ],
   "source": [
    "pred_parts = pred_parts - 1\n",
    "pred_mats = pred_mats - 1\n",
    "gt_parts = gt_parts - 1\n",
    "gt_mats = gt_mats - 1\n",
    "\n",
    "np.unique(pred_mats), np.unique(gt_mats), np.unique(pred_parts), np.unique(gt_parts)"
   ]
  },
  {
   "cell_type": "code",
   "execution_count": 5,
   "id": "f8be6877",
   "metadata": {},
   "outputs": [
    {
     "data": {
      "text/plain": [
       "0.11736831179090366"
      ]
     },
     "execution_count": 5,
     "metadata": {},
     "output_type": "execute_result"
    }
   ],
   "source": [
    "np.sum((pred_mats)==gt_mats) / (gt_mats.shape[0] * gt_mats.shape[1])"
   ]
  },
  {
   "cell_type": "code",
   "execution_count": 6,
   "id": "8264e0ec",
   "metadata": {},
   "outputs": [
    {
     "data": {
      "text/plain": [
       "12560"
      ]
     },
     "execution_count": 6,
     "metadata": {},
     "output_type": "execute_result"
    }
   ],
   "source": [
    "len(model_ids)"
   ]
  },
  {
   "cell_type": "code",
   "execution_count": 7,
   "id": "b344cdf0",
   "metadata": {},
   "outputs": [
    {
     "name": "stdout",
     "output_type": "stream",
     "text": [
      "(12560, 2048) (12560, 2048) (12560, 2048) (12560, 2048) (12560,) (12560,)\n"
     ]
    }
   ],
   "source": [
    "\n",
    "data = {'pred_parts': pred_parts, 'gt_parts': gt_parts, 'pred_mats': pred_mats, \\\n",
    "        'gt_mats': gt_mats, 'pred_objs': pred_objs, 'gt_objs': gt_objs, \\\n",
    "       'out_model_ids': model_ids, 'out_style_ids': style_ids\n",
    "       }\n",
    "\n",
    "print(pred_parts.shape, gt_parts.shape, pred_mats.shape, gt_mats.shape, pred_objs.shape, gt_objs.shape)\n"
   ]
  },
  {
   "cell_type": "code",
   "execution_count": 8,
   "id": "ccb1c8b8",
   "metadata": {},
   "outputs": [],
   "source": [
    "## if no point_grouping and part_mat_pairs are provided\n",
    "\n",
    "point_grouping =  -1 * np.ones(pred_parts.shape)\n",
    "for s in range(len(point_grouping)):\n",
    "    all_parts = np.unique(pred_parts[s])\n",
    "    for ii, p in enumerate(all_parts):\n",
    "        idx = np.where(pred_parts[s]==p)[0]\n",
    "        point_grouping[s][idx] = ii\n",
    "\n",
    "part_mat_pairs = -1 * np.ones((point_grouping.shape[0], 100, 2))\n",
    "\n",
    "for s in range(len(point_grouping)):\n",
    "    unique_group = np.unique(point_grouping[s])\n",
    "    \n",
    "    for ii, g in enumerate(unique_group):\n",
    "        idx = np.where(point_grouping[s]==g)[0]\n",
    "        # part grouping\n",
    "        part_g = pred_parts[s][idx]\n",
    "        unique_values, value_counts = np.unique(part_g, return_counts=True)\n",
    "        index_of_most_frequent_value = np.argmax(value_counts)\n",
    "        vote_part = unique_values[index_of_most_frequent_value]\n",
    "        \n",
    "        # material grouping\n",
    "        mat_g = pred_mats[s][idx]\n",
    "        unique_values, value_counts = np.unique(mat_g, return_counts=True)\n",
    "        index_of_most_frequent_value = np.argmax(value_counts)\n",
    "        vote_mat = unique_values[index_of_most_frequent_value]\n",
    "\n",
    "        part_mat_pairs[s,ii,:] = np.array([vote_part, vote_mat])\n",
    "\n",
    "# data = { \"part_labels\": pred_parts.astype('int16'),\n",
    "#     \"mat_labels\": pred_mats.astype('uint8'),\n",
    "#     \"point_grouping\": point_grouping.astype('uint8'),\n",
    "#     \"part_mat_pairs\": part_mat_pairs.astype('int16'),\n",
    "#     \"shape_preds\": pred_objs.astype('uint8'),\n",
    "#     'out_model_ids': model_ids, 'out_style_ids': style_ids\n",
    "# }\n",
    "\n",
    "# with h5py.File('fine_valid_10comp_bpnet_submit.h5', 'w') as f:\n",
    "#     for name, arr in data.items():\n",
    "#         f.create_dataset(name, data=arr)\n",
    "# print('save results done')\n"
   ]
  },
  {
   "cell_type": "code",
   "execution_count": 9,
   "id": "e9c7edb0",
   "metadata": {},
   "outputs": [],
   "source": [
    "from eval_code import *"
   ]
  },
  {
   "cell_type": "code",
   "execution_count": 10,
   "id": "9240a3f4",
   "metadata": {},
   "outputs": [],
   "source": [
    "## read original point clouds"
   ]
  },
  {
   "cell_type": "code",
   "execution_count": 11,
   "id": "e46e61cb",
   "metadata": {},
   "outputs": [
    {
     "name": "stdout",
     "output_type": "stream",
     "text": [
      "(12560,)\n"
     ]
    }
   ],
   "source": [
    "from tqdm import tqdm\n",
    "\n",
    "hdf_path = '/lustre/scratch/project/k1546/3DCoMPaT-v2/hdf5/'\n",
    "hdf_path = '/home/lix0i/Xiang/3DCoMPaT/BPNet/hdf5/'\n",
    "\n",
    "test_data = h5py.File(hdf_path + '{}_{}.hdf5'.format(split, sem_level))\n",
    "## number of shapes in train/valid/test: 8076, 677, 1256\n",
    "\n",
    "all_shape_ids = np.array(test_data['shape_id']).astype('str')\n",
    "all_style_ids = np.array(test_data['style_id']).astype('int32')\n",
    "print(all_shape_ids.shape)"
   ]
  },
  {
   "cell_type": "code",
   "execution_count": 12,
   "id": "38fc8692",
   "metadata": {},
   "outputs": [],
   "source": [
    "## read 3d classification results"
   ]
  },
  {
   "cell_type": "code",
   "execution_count": 13,
   "id": "fd7c9162",
   "metadata": {},
   "outputs": [],
   "source": [
    "## number of shapes in train/valid/test: 8076, 677, 1256\n",
    "use_separate3d = False\n",
    "if use_separate3d:\n",
    "    hdf_path = '/lustre/scratch/project/k1546/challenge/class_{}_{}.h5'.format(sem_level, split)\n",
    "    hdf_path = 'results/class_{}_{}.h5'.format(sem_level, split)\n",
    "    test_data = h5py.File(hdf_path)\n",
    "    cls_model_ids = np.array(test_data['out_model_ids']).astype('str')\n",
    "    cls_style_ids = np.array(test_data['out_style_ids']).astype('int32')\n",
    "    cls_pred_targets = np.array(test_data['shape_preds']).astype('int32')\n",
    "    print(cls_pred_targets.shape,)"
   ]
  },
  {
   "cell_type": "code",
   "execution_count": null,
   "id": "02e4163b",
   "metadata": {},
   "outputs": [],
   "source": []
  },
  {
   "cell_type": "code",
   "execution_count": 14,
   "id": "5821c262",
   "metadata": {
    "scrolled": true
   },
   "outputs": [
    {
     "name": "stderr",
     "output_type": "stream",
     "text": [
      "100%|██████████| 12560/12560 [00:29<00:00, 429.47it/s]\n"
     ]
    }
   ],
   "source": [
    "# reorderring\n",
    "pred_objs_new = []\n",
    "new_ord = []\n",
    "\n",
    "no_matchs = 0\n",
    "one_matches = 0\n",
    "two_matches = 0\n",
    "\n",
    "for i in tqdm(range(len(all_shape_ids))):\n",
    "    \n",
    "    model_id = all_shape_ids[i]\n",
    "    style_id = all_style_ids[i]\n",
    "    \n",
    "    idx = np.where((model_ids.astype('str') == model_id) & (style_ids.astype('int') == style_id))[0]\n",
    "    if len(idx)==0:\n",
    "        print('no match', model_id, style_id, idx)\n",
    "        no_matchs += 1\n",
    "    elif len(idx)==1:\n",
    "        one_matches += 1\n",
    "    elif len(idx)>=2:\n",
    "        print('two match', model_id, style_id, idx)\n",
    "        two_matches += 1\n",
    "    \n",
    "    new_ord.append(idx[0])\n",
    "\n",
    "    if use_separate3d:\n",
    "        cls_idx = np.where((cls_model_ids == model_id) & (cls_style_ids == style_id))[0]\n",
    "        pred_objs_new.append(cls_pred_targets[cls_idx]) # replace with seperate 3d classification results\n",
    "\n",
    "new_ord = np.array(new_ord)\n",
    "if use_separate3d:\n",
    "    pred_objs_new = np.array(pred_objs_new)\n"
   ]
  },
  {
   "cell_type": "code",
   "execution_count": 15,
   "id": "1dfa002c",
   "metadata": {},
   "outputs": [
    {
     "data": {
      "text/plain": [
       "(0, 12560, 0)"
      ]
     },
     "execution_count": 15,
     "metadata": {},
     "output_type": "execute_result"
    }
   ],
   "source": [
    "no_matchs, one_matches, two_matches"
   ]
  },
  {
   "cell_type": "code",
   "execution_count": null,
   "id": "010b5752",
   "metadata": {},
   "outputs": [],
   "source": []
  },
  {
   "cell_type": "code",
   "execution_count": 16,
   "id": "843e060e",
   "metadata": {},
   "outputs": [
    {
     "name": "stdout",
     "output_type": "stream",
     "text": [
      "save results done\n"
     ]
    }
   ],
   "source": [
    "\n",
    "## save gt for evaluation\n",
    "data = { \"part_labels\": gt_parts[new_ord],\n",
    "    \"mat_labels\": gt_mats[new_ord],\n",
    "    \"shape_preds\": gt_objs[new_ord],\n",
    "}\n",
    "with h5py.File('coarse_com50_test_10comp_bpnet_gt.h5', 'w') as f:\n",
    "    for name, arr in data.items():\n",
    "        f.create_dataset(name, data=arr)\n",
    "print('save results done')\n"
   ]
  },
  {
   "cell_type": "code",
   "execution_count": 17,
   "id": "e229bdd0",
   "metadata": {},
   "outputs": [
    {
     "name": "stdout",
     "output_type": "stream",
     "text": [
      "save results done\n"
     ]
    }
   ],
   "source": [
    "data = { \"part_labels\": pred_parts[new_ord].astype('int16'),\n",
    "    \"mat_labels\": pred_mats[new_ord].astype('uint8'),\n",
    "    \"point_grouping\": point_grouping[new_ord].astype('uint8'),\n",
    "    \"part_mat_pairs\": part_mat_pairs[new_ord].astype('int16'),\n",
    "    \"shape_preds\": pred_objs[new_ord].astype('uint8'),\n",
    "    'out_model_ids': model_ids[new_ord], 'out_style_ids': style_ids[new_ord]\n",
    "}\n",
    "\n",
    "with h5py.File('coarse_com50_test_10comp_bpnet_submit.h5', 'w') as f:\n",
    "    for name, arr in data.items():\n",
    "        f.create_dataset(name, data=arr)\n",
    "print('save results done')"
   ]
  },
  {
   "cell_type": "code",
   "execution_count": 18,
   "metadata": {},
   "outputs": [],
   "source": [
    "# data = { \"part_labels\": pred_parts[new_ord].astype('int16'),\n",
    "#     \"mat_labels\": pred_mats[new_ord].astype('uint8'),\n",
    "#     \"point_grouping\": point_grouping[new_ord].astype('uint8'),\n",
    "#     \"part_mat_pairs\": part_mat_pairs[new_ord].astype('int16'),\n",
    "#     \"shape_preds\": pred_objs_new.astype('uint8'),\n",
    "#     'out_model_ids': model_ids[new_ord], 'out_style_ids': style_ids[new_ord]\n",
    "# }\n",
    "\n",
    "# with h5py.File('coarse_com5_test_10comp_bpnet_submit_separate3d.h5', 'w') as f:\n",
    "#     for name, arr in data.items():\n",
    "#         f.create_dataset(name, data=arr)\n",
    "# print('save results done')"
   ]
  },
  {
   "cell_type": "code",
   "execution_count": null,
   "metadata": {},
   "outputs": [],
   "source": []
  },
  {
   "cell_type": "code",
   "execution_count": 19,
   "metadata": {},
   "outputs": [],
   "source": [
    "# test_annotation_file = 'results/coarse_valid_10comp_bpnet_gt.h5'\n",
    "# user_submission_file = 'results/coarse_valid_10comp_bpnet_submit.h5'\n",
    "# evaluate(test_annotation_file, user_submission_file, phase_codename='fdfd')"
   ]
  },
  {
   "cell_type": "code",
   "execution_count": 20,
   "metadata": {},
   "outputs": [],
   "source": [
    "# test_annotation_file = 'results/coarse2_valid_10comp_bpnet_gt.h5'\n",
    "# user_submission_file = 'results/coarse2_valid_10comp_bpnet_submit_reordered.h5'\n",
    "# evaluate(test_annotation_file, user_submission_file, phase_codename='fdfd')"
   ]
  },
  {
   "cell_type": "code",
   "execution_count": 21,
   "id": "7c5ea841",
   "metadata": {},
   "outputs": [
    {
     "name": "stdout",
     "output_type": "stream",
     "text": [
      "Starting Evaluation.....\n",
      "loaded user submission\n",
      "Data Loaded\n",
      "METRICS EVALUATED\n",
      "Completed evaluation for Test Phase\n"
     ]
    },
    {
     "data": {
      "text/plain": [
       "{'result': [{'test_split': {'Shape accuracy': 3.7977707006369426,\n",
       "    'Value': 0.02388535031847134,\n",
       "    'Value-ALL': 0.0,\n",
       "    'Value-GRND': 0.0,\n",
       "    'Value-ALL-GRND': 0.0}}],\n",
       " 'submission_result': {'test_split': {'Shape accuracy': 3.7977707006369426,\n",
       "   'Value': 0.02388535031847134,\n",
       "   'Value-ALL': 0.0,\n",
       "   'Value-GRND': 0.0,\n",
       "   'Value-ALL-GRND': 0.0}}}"
      ]
     },
     "execution_count": 21,
     "metadata": {},
     "output_type": "execute_result"
    }
   ],
   "source": [
    "test_annotation_file = 'coarse_com50_test_10comp_bpnet_gt.h5'\n",
    "user_submission_file = 'coarse_com50_test_10comp_bpnet_submit.h5'\n",
    "# user_submission_file = 'coarse_com5_test_10comp_bpnet_submit_separate3d.h5'\n",
    "evaluate(test_annotation_file, user_submission_file, phase_codename='com5_test')"
   ]
  },
  {
   "cell_type": "code",
   "execution_count": null,
   "id": "32c4c6c4",
   "metadata": {},
   "outputs": [],
   "source": []
  },
  {
   "cell_type": "code",
   "execution_count": null,
   "id": "b2eb1bc7",
   "metadata": {},
   "outputs": [],
   "source": []
  },
  {
   "cell_type": "code",
   "execution_count": 22,
   "id": "5a45979f",
   "metadata": {},
   "outputs": [],
   "source": [
    "# test_annotation_file = 'results/coarse2_valid_10comp_bpnet_gt.h5'\n",
    "# user_submission_file = 'results/coarse2_valid_10comp_bpnet_submit_separate3d.h5'\n",
    "# evaluate(test_annotation_file, user_submission_file, phase_codename='fdfd')"
   ]
  },
  {
   "cell_type": "code",
   "execution_count": null,
   "id": "2c5599ff",
   "metadata": {},
   "outputs": [],
   "source": []
  },
  {
   "cell_type": "code",
   "execution_count": null,
   "id": "304c409c",
   "metadata": {},
   "outputs": [],
   "source": []
  }
 ],
 "metadata": {
  "kernelspec": {
   "display_name": "BPNet",
   "language": "python",
   "name": "python3"
  },
  "language_info": {
   "codemirror_mode": {
    "name": "ipython",
    "version": 3
   },
   "file_extension": ".py",
   "mimetype": "text/x-python",
   "name": "python",
   "nbconvert_exporter": "python",
   "pygments_lexer": "ipython3",
   "version": "3.8.18"
  }
 },
 "nbformat": 4,
 "nbformat_minor": 5
}
